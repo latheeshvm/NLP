{
 "cells": [
  {
   "attachments": {},
   "cell_type": "markdown",
   "metadata": {},
   "source": [
    "# Model 0 : Naive Bayes (baseline), this is from sklearn ML map"
   ]
  },
  {
   "cell_type": "code",
   "execution_count": 1,
   "metadata": {},
   "outputs": [],
   "source": [
    "from core.data_sets import train_sentences, train_labels, val_labels,val_sentences\n",
    "from models.base_model import model_0\n",
    "from models.model1 import model_1\n",
    "from core.helper_fuctions import calculate_results\n"
   ]
  },
  {
   "cell_type": "code",
   "execution_count": 2,
   "metadata": {},
   "outputs": [
    {
     "data": {
      "text/html": [
       "<style>#sk-container-id-1 {color: black;background-color: white;}#sk-container-id-1 pre{padding: 0;}#sk-container-id-1 div.sk-toggleable {background-color: white;}#sk-container-id-1 label.sk-toggleable__label {cursor: pointer;display: block;width: 100%;margin-bottom: 0;padding: 0.3em;box-sizing: border-box;text-align: center;}#sk-container-id-1 label.sk-toggleable__label-arrow:before {content: \"▸\";float: left;margin-right: 0.25em;color: #696969;}#sk-container-id-1 label.sk-toggleable__label-arrow:hover:before {color: black;}#sk-container-id-1 div.sk-estimator:hover label.sk-toggleable__label-arrow:before {color: black;}#sk-container-id-1 div.sk-toggleable__content {max-height: 0;max-width: 0;overflow: hidden;text-align: left;background-color: #f0f8ff;}#sk-container-id-1 div.sk-toggleable__content pre {margin: 0.2em;color: black;border-radius: 0.25em;background-color: #f0f8ff;}#sk-container-id-1 input.sk-toggleable__control:checked~div.sk-toggleable__content {max-height: 200px;max-width: 100%;overflow: auto;}#sk-container-id-1 input.sk-toggleable__control:checked~label.sk-toggleable__label-arrow:before {content: \"▾\";}#sk-container-id-1 div.sk-estimator input.sk-toggleable__control:checked~label.sk-toggleable__label {background-color: #d4ebff;}#sk-container-id-1 div.sk-label input.sk-toggleable__control:checked~label.sk-toggleable__label {background-color: #d4ebff;}#sk-container-id-1 input.sk-hidden--visually {border: 0;clip: rect(1px 1px 1px 1px);clip: rect(1px, 1px, 1px, 1px);height: 1px;margin: -1px;overflow: hidden;padding: 0;position: absolute;width: 1px;}#sk-container-id-1 div.sk-estimator {font-family: monospace;background-color: #f0f8ff;border: 1px dotted black;border-radius: 0.25em;box-sizing: border-box;margin-bottom: 0.5em;}#sk-container-id-1 div.sk-estimator:hover {background-color: #d4ebff;}#sk-container-id-1 div.sk-parallel-item::after {content: \"\";width: 100%;border-bottom: 1px solid gray;flex-grow: 1;}#sk-container-id-1 div.sk-label:hover label.sk-toggleable__label {background-color: #d4ebff;}#sk-container-id-1 div.sk-serial::before {content: \"\";position: absolute;border-left: 1px solid gray;box-sizing: border-box;top: 0;bottom: 0;left: 50%;z-index: 0;}#sk-container-id-1 div.sk-serial {display: flex;flex-direction: column;align-items: center;background-color: white;padding-right: 0.2em;padding-left: 0.2em;position: relative;}#sk-container-id-1 div.sk-item {position: relative;z-index: 1;}#sk-container-id-1 div.sk-parallel {display: flex;align-items: stretch;justify-content: center;background-color: white;position: relative;}#sk-container-id-1 div.sk-item::before, #sk-container-id-1 div.sk-parallel-item::before {content: \"\";position: absolute;border-left: 1px solid gray;box-sizing: border-box;top: 0;bottom: 0;left: 50%;z-index: -1;}#sk-container-id-1 div.sk-parallel-item {display: flex;flex-direction: column;z-index: 1;position: relative;background-color: white;}#sk-container-id-1 div.sk-parallel-item:first-child::after {align-self: flex-end;width: 50%;}#sk-container-id-1 div.sk-parallel-item:last-child::after {align-self: flex-start;width: 50%;}#sk-container-id-1 div.sk-parallel-item:only-child::after {width: 0;}#sk-container-id-1 div.sk-dashed-wrapped {border: 1px dashed gray;margin: 0 0.4em 0.5em 0.4em;box-sizing: border-box;padding-bottom: 0.4em;background-color: white;}#sk-container-id-1 div.sk-label label {font-family: monospace;font-weight: bold;display: inline-block;line-height: 1.2em;}#sk-container-id-1 div.sk-label-container {text-align: center;}#sk-container-id-1 div.sk-container {/* jupyter's `normalize.less` sets `[hidden] { display: none; }` but bootstrap.min.css set `[hidden] { display: none !important; }` so we also need the `!important` here to be able to override the default hidden behavior on the sphinx rendered scikit-learn.org. See: https://github.com/scikit-learn/scikit-learn/issues/21755 */display: inline-block !important;position: relative;}#sk-container-id-1 div.sk-text-repr-fallback {display: none;}</style><div id=\"sk-container-id-1\" class=\"sk-top-container\"><div class=\"sk-text-repr-fallback\"><pre>Pipeline(steps=[(&#x27;tfidf&#x27;, TfidfVectorizer()), (&#x27;clf&#x27;, MultinomialNB())])</pre><b>In a Jupyter environment, please rerun this cell to show the HTML representation or trust the notebook. <br />On GitHub, the HTML representation is unable to render, please try loading this page with nbviewer.org.</b></div><div class=\"sk-container\" hidden><div class=\"sk-item sk-dashed-wrapped\"><div class=\"sk-label-container\"><div class=\"sk-label sk-toggleable\"><input class=\"sk-toggleable__control sk-hidden--visually\" id=\"sk-estimator-id-1\" type=\"checkbox\" ><label for=\"sk-estimator-id-1\" class=\"sk-toggleable__label sk-toggleable__label-arrow\">Pipeline</label><div class=\"sk-toggleable__content\"><pre>Pipeline(steps=[(&#x27;tfidf&#x27;, TfidfVectorizer()), (&#x27;clf&#x27;, MultinomialNB())])</pre></div></div></div><div class=\"sk-serial\"><div class=\"sk-item\"><div class=\"sk-estimator sk-toggleable\"><input class=\"sk-toggleable__control sk-hidden--visually\" id=\"sk-estimator-id-2\" type=\"checkbox\" ><label for=\"sk-estimator-id-2\" class=\"sk-toggleable__label sk-toggleable__label-arrow\">TfidfVectorizer</label><div class=\"sk-toggleable__content\"><pre>TfidfVectorizer()</pre></div></div></div><div class=\"sk-item\"><div class=\"sk-estimator sk-toggleable\"><input class=\"sk-toggleable__control sk-hidden--visually\" id=\"sk-estimator-id-3\" type=\"checkbox\" ><label for=\"sk-estimator-id-3\" class=\"sk-toggleable__label sk-toggleable__label-arrow\">MultinomialNB</label><div class=\"sk-toggleable__content\"><pre>MultinomialNB()</pre></div></div></div></div></div></div></div>"
      ],
      "text/plain": [
       "Pipeline(steps=[('tfidf', TfidfVectorizer()), ('clf', MultinomialNB())])"
      ]
     },
     "execution_count": 2,
     "metadata": {},
     "output_type": "execute_result"
    }
   ],
   "source": [
    "model_0.fit(train_sentences, train_labels)"
   ]
  },
  {
   "cell_type": "code",
   "execution_count": 3,
   "metadata": {},
   "outputs": [
    {
     "name": "stdout",
     "output_type": "stream",
     "text": [
      "Our baseline model achiveves an accuracy of: 79.27%\n"
     ]
    }
   ],
   "source": [
    "# Evaluate our baseline model\n",
    "baseline_score = model_0.score(val_sentences, val_labels)\n",
    "print(f\"Our baseline model achiveves an accuracy of: {baseline_score*100:.2f}%\")"
   ]
  },
  {
   "cell_type": "code",
   "execution_count": 4,
   "metadata": {},
   "outputs": [
    {
     "data": {
      "text/plain": [
       "{'accuracy': 79.26509186351706,\n",
       " 'precision': 0.8111390004213173,\n",
       " 'recall': 0.7926509186351706,\n",
       " 'f1': 0.7862189758049549}"
      ]
     },
     "execution_count": 4,
     "metadata": {},
     "output_type": "execute_result"
    }
   ],
   "source": [
    "baseline_preds = model_0.predict(val_sentences)\n",
    "baseline_results  = calculate_results(y_true=val_labels, y_pred=baseline_preds)\n",
    "baseline_results"
   ]
  },
  {
   "attachments": {},
   "cell_type": "markdown",
   "metadata": {},
   "source": [
    "# Model 1: A simple dense model"
   ]
  },
  {
   "cell_type": "code",
   "execution_count": 5,
   "metadata": {},
   "outputs": [],
   "source": [
    "import tensorflow as tf\n",
    "from core.helper_fuctions import create_tensorboard_callback\n"
   ]
  },
  {
   "cell_type": "code",
   "execution_count": 6,
   "metadata": {},
   "outputs": [
    {
     "data": {
      "text/plain": [
       "((6851,), (6851,), (762,), (762,))"
      ]
     },
     "execution_count": 6,
     "metadata": {},
     "output_type": "execute_result"
    }
   ],
   "source": [
    "train_sentences.shape, train_labels.shape, val_sentences.shape, val_labels.shape"
   ]
  },
  {
   "cell_type": "code",
   "execution_count": 7,
   "metadata": {},
   "outputs": [
    {
     "name": "stdout",
     "output_type": "stream",
     "text": [
      "Model: \"model_1_dense\"\n",
      "_________________________________________________________________\n",
      " Layer (type)                Output Shape              Param #   \n",
      "=================================================================\n",
      " input_1 (InputLayer)        [(None, 1)]               0         \n",
      "                                                                 \n",
      " text_vectorization (TextVec  (None, 15)               0         \n",
      " torization)                                                     \n",
      "                                                                 \n",
      " embedding (Embedding)       (None, 15, 128)           1280000   \n",
      "                                                                 \n",
      " global_average_pooling1d (G  (None, 128)              0         \n",
      " lobalAveragePooling1D)                                          \n",
      "                                                                 \n",
      " dense (Dense)               (None, 1)                 129       \n",
      "                                                                 \n",
      "=================================================================\n",
      "Total params: 1,280,129\n",
      "Trainable params: 1,280,129\n",
      "Non-trainable params: 0\n",
      "_________________________________________________________________\n"
     ]
    }
   ],
   "source": [
    "model_1.summary()"
   ]
  },
  {
   "cell_type": "code",
   "execution_count": 8,
   "metadata": {},
   "outputs": [
    {
     "name": "stdout",
     "output_type": "stream",
     "text": [
      "Saving TensorBoard log files to: model_logs/model_1_dense/20230103-005823\n",
      "Epoch 1/5\n",
      "215/215 [==============================] - 3s 7ms/step - loss: 0.6105 - accuracy: 0.6933 - val_loss: 0.5339 - val_accuracy: 0.7625\n",
      "Epoch 2/5\n",
      "215/215 [==============================] - 1s 6ms/step - loss: 0.4403 - accuracy: 0.8167 - val_loss: 0.4732 - val_accuracy: 0.7822\n",
      "Epoch 3/5\n",
      "215/215 [==============================] - 1s 6ms/step - loss: 0.3455 - accuracy: 0.8643 - val_loss: 0.4592 - val_accuracy: 0.7874\n",
      "Epoch 4/5\n",
      "215/215 [==============================] - 1s 6ms/step - loss: 0.2841 - accuracy: 0.8908 - val_loss: 0.4629 - val_accuracy: 0.7822\n",
      "Epoch 5/5\n",
      "215/215 [==============================] - 1s 7ms/step - loss: 0.2365 - accuracy: 0.9124 - val_loss: 0.4864 - val_accuracy: 0.7822\n"
     ]
    }
   ],
   "source": [
    "model_1.compile(loss=\"binary_crossentropy\",\n",
    "                optimizer=tf.keras.optimizers.Adam(), metrics=[\"accuracy\"])\n",
    "\n",
    "model_1_history = model_1.fit(x=train_sentences, y=train_labels, validation_data=(val_sentences, val_labels), epochs=5, callbacks=[\n",
    "                              create_tensorboard_callback(dir_name=\"model_logs\", experiment_name=\"model_1_dense\")])\n",
    "\n",
    "# model_1_history = model_1.fit(x=train_sentences, y=tf.expand_dims(train_labels, axis=-1), validation_data=(val_sentences, tf.expand_dims(val_labels, axis=-1)),epochs=5, callbacks=[\n",
    "#                               create_tensorboard_callback(dir_name=\"model_logs\", experiment_name=\"model_1_dense\")])\n",
    "\n"
   ]
  },
  {
   "cell_type": "code",
   "execution_count": 9,
   "metadata": {},
   "outputs": [
    {
     "name": "stdout",
     "output_type": "stream",
     "text": [
      "24/24 [==============================] - 0s 3ms/step - loss: 0.4864 - accuracy: 0.7822\n"
     ]
    },
    {
     "data": {
      "text/plain": [
       "[0.4863888919353485, 0.7821522355079651]"
      ]
     },
     "execution_count": 9,
     "metadata": {},
     "output_type": "execute_result"
    }
   ],
   "source": [
    "model_1.evaluate(val_sentences, val_labels)"
   ]
  },
  {
   "cell_type": "code",
   "execution_count": 10,
   "metadata": {},
   "outputs": [
    {
     "name": "stdout",
     "output_type": "stream",
     "text": [
      "24/24 [==============================] - 0s 3ms/step\n"
     ]
    },
    {
     "data": {
      "text/plain": [
       "(762, 1)"
      ]
     },
     "execution_count": 10,
     "metadata": {},
     "output_type": "execute_result"
    }
   ],
   "source": [
    "model_1_pred_probs = model_1.predict(val_sentences)\n",
    "model_1_pred_probs.shape\n"
   ]
  },
  {
   "cell_type": "code",
   "execution_count": 11,
   "metadata": {},
   "outputs": [
    {
     "data": {
      "text/plain": [
       "<tf.Tensor: shape=(20,), dtype=float32, numpy=\n",
       "array([0., 1., 1., 0., 0., 1., 1., 1., 1., 0., 0., 1., 0., 0., 0., 0., 0.,\n",
       "       0., 0., 1.], dtype=float32)>"
      ]
     },
     "execution_count": 11,
     "metadata": {},
     "output_type": "execute_result"
    }
   ],
   "source": [
    "model_1_preds =  tf.squeeze(tf.round(model_1_pred_probs))\n",
    "model_1_preds[:20]"
   ]
  },
  {
   "cell_type": "code",
   "execution_count": 12,
   "metadata": {},
   "outputs": [
    {
     "data": {
      "text/plain": [
       "{'accuracy': 78.21522309711287,\n",
       " 'precision': 0.7872762884426117,\n",
       " 'recall': 0.7821522309711286,\n",
       " 'f1': 0.7789371307867892}"
      ]
     },
     "execution_count": 12,
     "metadata": {},
     "output_type": "execute_result"
    }
   ],
   "source": [
    "model_1_results = calculate_results(y_true=val_labels, y_pred=model_1_preds)\n",
    "model_1_results"
   ]
  },
  {
   "attachments": {},
   "cell_type": "markdown",
   "metadata": {},
   "source": [
    "# LSTM Model"
   ]
  },
  {
   "cell_type": "code",
   "execution_count": 13,
   "metadata": {},
   "outputs": [],
   "source": [
    "from models.model2 import model_2\n",
    "import tensorflow as tf\n",
    "from core.helper_fuctions import create_tensorboard_callback\n"
   ]
  },
  {
   "cell_type": "code",
   "execution_count": 14,
   "metadata": {},
   "outputs": [
    {
     "name": "stdout",
     "output_type": "stream",
     "text": [
      "Saving TensorBoard log files to: model_logs/model_2_LSTM/20230103-005833\n",
      "Epoch 1/5\n",
      "215/215 [==============================] - 8s 19ms/step - loss: 0.2167 - accuracy: 0.9235 - val_loss: 0.6272 - val_accuracy: 0.7717\n",
      "Epoch 2/5\n",
      "215/215 [==============================] - 3s 15ms/step - loss: 0.1577 - accuracy: 0.9407 - val_loss: 0.6249 - val_accuracy: 0.7795\n",
      "Epoch 3/5\n",
      "215/215 [==============================] - 3s 15ms/step - loss: 0.1286 - accuracy: 0.9514 - val_loss: 0.7422 - val_accuracy: 0.7822\n",
      "Epoch 4/5\n",
      "215/215 [==============================] - 3s 14ms/step - loss: 0.1062 - accuracy: 0.9588 - val_loss: 0.9035 - val_accuracy: 0.7756\n",
      "Epoch 5/5\n",
      "215/215 [==============================] - 3s 14ms/step - loss: 0.0809 - accuracy: 0.9677 - val_loss: 0.8981 - val_accuracy: 0.7690\n"
     ]
    }
   ],
   "source": [
    "model_2.compile(loss=\"binary_crossentropy\", optimizer=tf.keras.optimizers.Adam(), metrics=[\"accuracy\"])\n",
    "\n",
    "model_2_history = model_2.fit(train_sentences, train_labels, epochs=5, validation_data=(val_sentences, val_labels), callbacks=[create_tensorboard_callback(\"model_logs\", \"model_2_LSTM\")])"
   ]
  },
  {
   "cell_type": "code",
   "execution_count": 15,
   "metadata": {},
   "outputs": [
    {
     "name": "stdout",
     "output_type": "stream",
     "text": [
      "24/24 [==============================] - 1s 5ms/step\n"
     ]
    },
    {
     "data": {
      "text/plain": [
       "array([[1.1485800e-02],\n",
       "       [8.0460447e-01],\n",
       "       [9.9981660e-01],\n",
       "       [6.1161280e-02],\n",
       "       [2.3012111e-04],\n",
       "       [9.9727839e-01],\n",
       "       [8.1561399e-01],\n",
       "       [9.9997306e-01],\n",
       "       [9.9990952e-01],\n",
       "       [3.7310097e-01]], dtype=float32)"
      ]
     },
     "execution_count": 15,
     "metadata": {},
     "output_type": "execute_result"
    }
   ],
   "source": [
    "model_2_pred_probs = model_2.predict(val_sentences)\n",
    "model_2_pred_probs[:10]"
   ]
  },
  {
   "cell_type": "code",
   "execution_count": 16,
   "metadata": {},
   "outputs": [
    {
     "data": {
      "text/plain": [
       "{'accuracy': 76.9028871391076,\n",
       " 'precision': 0.7731540113429877,\n",
       " 'recall': 0.7690288713910761,\n",
       " 'f1': 0.7657803921853192}"
      ]
     },
     "execution_count": 16,
     "metadata": {},
     "output_type": "execute_result"
    }
   ],
   "source": [
    "model_2_preds = tf.squeeze(tf.round(model_2_pred_probs))\n",
    "\n",
    "model_2_results = calculate_results(y_true=val_labels, y_pred=model_2_preds)\n",
    "model_2_results"
   ]
  },
  {
   "attachments": {},
   "cell_type": "markdown",
   "metadata": {},
   "source": [
    "# GRU"
   ]
  },
  {
   "cell_type": "code",
   "execution_count": 17,
   "metadata": {},
   "outputs": [],
   "source": [
    "from models.model3 import model_3"
   ]
  },
  {
   "cell_type": "code",
   "execution_count": 18,
   "metadata": {},
   "outputs": [
    {
     "name": "stdout",
     "output_type": "stream",
     "text": [
      "Saving TensorBoard log files to: model_logs/model_3_GRU/20230103-005854\n",
      "Epoch 1/5\n",
      "215/215 [==============================] - 5s 14ms/step - loss: 0.1618 - accuracy: 0.0000e+00 - val_loss: 0.8362 - val_accuracy: 0.0000e+00\n",
      "Epoch 2/5\n",
      "215/215 [==============================] - 2s 10ms/step - loss: 0.0848 - accuracy: 0.0000e+00 - val_loss: 0.8286 - val_accuracy: 0.0000e+00\n",
      "Epoch 3/5\n",
      "215/215 [==============================] - 2s 10ms/step - loss: 0.0706 - accuracy: 0.0000e+00 - val_loss: 0.8380 - val_accuracy: 0.0000e+00\n",
      "Epoch 4/5\n",
      "215/215 [==============================] - 2s 10ms/step - loss: 0.0607 - accuracy: 0.0000e+00 - val_loss: 1.0676 - val_accuracy: 0.0000e+00\n",
      "Epoch 5/5\n",
      "215/215 [==============================] - 2s 10ms/step - loss: 0.0540 - accuracy: 0.0000e+00 - val_loss: 1.1418 - val_accuracy: 0.0000e+00\n"
     ]
    }
   ],
   "source": [
    "model_3.compile(loss=tf.keras.losses.BinaryCrossentropy(), optimizer=tf.keras.optimizers.Adam(), metrics=[tf.keras.metrics.Accuracy()])\n",
    "\n",
    "model_3_histroy = model_3.fit(train_sentences, train_labels, epochs=5, validation_data=(val_sentences,val_labels), callbacks=[create_tensorboard_callback(\"model_logs\",\"model_3_GRU\")])"
   ]
  },
  {
   "cell_type": "code",
   "execution_count": 19,
   "metadata": {},
   "outputs": [
    {
     "name": "stdout",
     "output_type": "stream",
     "text": [
      "24/24 [==============================] - 0s 5ms/step - loss: 1.1418 - accuracy: 0.0000e+00\n",
      "Model Evaluation result [1.1417713165283203, 0.0]\n",
      "24/24 [==============================] - 0s 4ms/step\n"
     ]
    },
    {
     "data": {
      "text/plain": [
       "{'accuracy': 76.64041994750657,\n",
       " 'precision': 0.7670590562420062,\n",
       " 'recall': 0.7664041994750657,\n",
       " 'f1': 0.764784113056577}"
      ]
     },
     "execution_count": 19,
     "metadata": {},
     "output_type": "execute_result"
    }
   ],
   "source": [
    "from core.helper_functions2 import process_the_model_output\n",
    "\n",
    "process_the_model_output(tf, model_3, val_sentences, val_labels, calculate_results)\n"
   ]
  },
  {
   "cell_type": "code",
   "execution_count": 20,
   "metadata": {},
   "outputs": [
    {
     "name": "stdout",
     "output_type": "stream",
     "text": [
      "24/24 [==============================] - 0s 7ms/step - loss: 1.0553 - accuracy: 0.7585\n",
      "Model Evaluation result [1.0553150177001953, 0.7585301995277405]\n",
      "24/24 [==============================] - 0s 5ms/step\n"
     ]
    },
    {
     "data": {
      "text/plain": [
       "{'accuracy': 75.8530183727034,\n",
       " 'precision': 0.7592089134633101,\n",
       " 'recall': 0.7585301837270341,\n",
       " 'f1': 0.7567321197360164}"
      ]
     },
     "execution_count": 20,
     "metadata": {},
     "output_type": "execute_result"
    }
   ],
   "source": [
    "process_the_model_output(tf, model_2, val_sentences, val_labels, calculate_results)\n"
   ]
  },
  {
   "attachments": {},
   "cell_type": "markdown",
   "metadata": {},
   "source": [
    "# Bidirectional"
   ]
  },
  {
   "cell_type": "code",
   "execution_count": 21,
   "metadata": {},
   "outputs": [],
   "source": [
    "import tensorflow as tf\n",
    "from core.data_sets import train_sentences, train_labels, val_labels, val_sentences\n",
    "from core.helper_fuctions import calculate_results\n",
    "from models.model4 import model_4\n",
    "from core.helper_functions2 import process_the_model_output\n",
    "\n",
    "from core.helper_fuctions import create_tensorboard_callback\n"
   ]
  },
  {
   "cell_type": "code",
   "execution_count": 22,
   "metadata": {},
   "outputs": [
    {
     "name": "stdout",
     "output_type": "stream",
     "text": [
      "Saving TensorBoard log files to: model_logs/model_4_bidirectional/20230103-005910\n",
      "Epoch 1/5\n",
      "215/215 [==============================] - 13s 30ms/step - loss: 0.1002 - accuracy: 0.9677 - val_loss: 0.9552 - val_accuracy: 0.7572\n",
      "Epoch 2/5\n",
      "215/215 [==============================] - 5s 22ms/step - loss: 0.0574 - accuracy: 0.9739 - val_loss: 1.2673 - val_accuracy: 0.7690\n",
      "Epoch 3/5\n",
      "215/215 [==============================] - 5s 22ms/step - loss: 0.0438 - accuracy: 0.9790 - val_loss: 1.4234 - val_accuracy: 0.7559\n",
      "Epoch 4/5\n",
      "215/215 [==============================] - 5s 23ms/step - loss: 0.0441 - accuracy: 0.9791 - val_loss: 1.4472 - val_accuracy: 0.7585\n",
      "Epoch 5/5\n",
      "215/215 [==============================] - 5s 23ms/step - loss: 0.0406 - accuracy: 0.9800 - val_loss: 1.5146 - val_accuracy: 0.7546\n",
      "24/24 [==============================] - 0s 10ms/step - loss: 1.5146 - accuracy: 0.7546\n",
      "Model Evaluation result [1.5146050453186035, 0.7545931935310364]\n",
      "24/24 [==============================] - 2s 8ms/step\n"
     ]
    },
    {
     "data": {
      "text/plain": [
       "{'accuracy': 75.45931758530183,\n",
       " 'precision': 0.7543557140594386,\n",
       " 'recall': 0.7545931758530183,\n",
       " 'f1': 0.7544418225373266}"
      ]
     },
     "execution_count": 22,
     "metadata": {},
     "output_type": "execute_result"
    }
   ],
   "source": [
    "model_4.compile(loss=\"binary_crossentropy\", optimizer=tf.keras.optimizers.Adam(), metrics=[\"accuracy\"])\n",
    "\n",
    "model_4_history = model_4.fit(train_sentences, train_labels, epochs=5, validation_data=(val_sentences,val_labels), callbacks=[create_tensorboard_callback(\"model_logs\", \"model_4_bidirectional\")])\n",
    "\n",
    "process_the_model_output(tf, model_4, val_sentences,\n",
    "                         val_labels, calculate_results)\n"
   ]
  },
  {
   "cell_type": "code",
   "execution_count": 23,
   "metadata": {},
   "outputs": [
    {
     "name": "stdout",
     "output_type": "stream",
     "text": [
      "24/24 [==============================] - 0s 10ms/step - loss: 1.5146 - accuracy: 0.7546\n"
     ]
    },
    {
     "data": {
      "text/plain": [
       "[1.5146050453186035, 0.7545931935310364]"
      ]
     },
     "execution_count": 23,
     "metadata": {},
     "output_type": "execute_result"
    }
   ],
   "source": [
    "model_4.evaluate(val_sentences, val_labels)\n"
   ]
  },
  {
   "attachments": {},
   "cell_type": "markdown",
   "metadata": {},
   "source": [
    "# Conv1D"
   ]
  },
  {
   "cell_type": "code",
   "execution_count": 24,
   "metadata": {},
   "outputs": [],
   "source": [
    "import tensorflow as tf\n",
    "from core.data_sets import train_sentences, train_labels, val_labels, val_sentences\n",
    "from core.helper_fuctions import calculate_results\n",
    "from models.model5 import model_5\n",
    "from core.helper_functions2 import process_the_model_output\n",
    "\n",
    "from core.helper_fuctions import create_tensorboard_callback\n"
   ]
  },
  {
   "cell_type": "code",
   "execution_count": 25,
   "metadata": {},
   "outputs": [
    {
     "name": "stdout",
     "output_type": "stream",
     "text": [
      "Saving TensorBoard log files to: model_logs/model_5_convulutional/20230103-005945\n",
      "Epoch 1/5\n",
      "215/215 [==============================] - 9s 10ms/step - loss: 0.1220 - accuracy: 0.9568 - val_loss: 0.9840 - val_accuracy: 0.7651\n",
      "Epoch 2/5\n",
      "215/215 [==============================] - 2s 9ms/step - loss: 0.0767 - accuracy: 0.9710 - val_loss: 1.0716 - val_accuracy: 0.7572\n",
      "Epoch 3/5\n",
      "215/215 [==============================] - 2s 9ms/step - loss: 0.0607 - accuracy: 0.9769 - val_loss: 1.1408 - val_accuracy: 0.7585\n",
      "Epoch 4/5\n",
      "215/215 [==============================] - 2s 9ms/step - loss: 0.0538 - accuracy: 0.9793 - val_loss: 1.2193 - val_accuracy: 0.7546\n",
      "Epoch 5/5\n",
      "215/215 [==============================] - 2s 9ms/step - loss: 0.0515 - accuracy: 0.9777 - val_loss: 1.2292 - val_accuracy: 0.7559\n",
      "24/24 [==============================] - 0s 4ms/step - loss: 1.2292 - accuracy: 0.7559\n",
      "Model Evaluation result [1.229182481765747, 0.7559055089950562]\n",
      "24/24 [==============================] - 0s 3ms/step\n"
     ]
    },
    {
     "data": {
      "text/plain": [
       "{'accuracy': 75.59055118110236,\n",
       " 'precision': 0.7556483058194802,\n",
       " 'recall': 0.7559055118110236,\n",
       " 'f1': 0.7548850741589771}"
      ]
     },
     "execution_count": 25,
     "metadata": {},
     "output_type": "execute_result"
    }
   ],
   "source": [
    "model_5.compile(loss=\"binary_crossentropy\",\n",
    "                optimizer=tf.keras.optimizers.Adam(), metrics=[\"accuracy\"])\n",
    "\n",
    "model_5_history = model_5.fit(train_sentences, train_labels, epochs=5, validation_data=(\n",
    "    val_sentences, val_labels), callbacks=[create_tensorboard_callback(\"model_logs\", \"model_5_convulutional\")])\n",
    "\n",
    "process_the_model_output(tf, model_5, val_sentences,\n",
    "                         val_labels, calculate_results)\n"
   ]
  },
  {
   "attachments": {},
   "cell_type": "markdown",
   "metadata": {},
   "source": [
    "# Pretrained"
   ]
  },
  {
   "cell_type": "code",
   "execution_count": 1,
   "metadata": {},
   "outputs": [
    {
     "name": "stdout",
     "output_type": "stream",
     "text": [
      "WARNING:tensorflow:Please fix your imports. Module tensorflow.python.training.tracking.data_structures has been moved to tensorflow.python.trackable.data_structures. The old module will be deleted in version 2.11.\n"
     ]
    }
   ],
   "source": [
    "import tensorflow as tf\n",
    "from core.data_sets import train_sentences, train_labels, val_labels, val_sentences\n",
    "from core.helper_fuctions import calculate_results\n",
    "from models.model6 import model_6\n",
    "from core.helper_functions2 import process_the_model_output\n",
    "\n",
    "from core.helper_fuctions import create_tensorboard_callback\n",
    "import tensorflow_hub as hub\n"
   ]
  },
  {
   "cell_type": "code",
   "execution_count": 2,
   "metadata": {},
   "outputs": [
    {
     "name": "stdout",
     "output_type": "stream",
     "text": [
      "Saving TensorBoard log files to: model_logs/model_6_transferlearning/20230103-064510\n",
      "Epoch 1/5\n",
      "215/215 [==============================] - 13s 31ms/step - loss: 0.4750 - accuracy: 0.7840 - val_loss: 0.4301 - val_accuracy: 0.8150\n",
      "Epoch 2/5\n",
      "215/215 [==============================] - 6s 27ms/step - loss: 0.3958 - accuracy: 0.8256 - val_loss: 0.4247 - val_accuracy: 0.8163\n",
      "Epoch 3/5\n",
      "215/215 [==============================] - 6s 27ms/step - loss: 0.3690 - accuracy: 0.8384 - val_loss: 0.4305 - val_accuracy: 0.8202\n",
      "Epoch 4/5\n",
      "215/215 [==============================] - 6s 26ms/step - loss: 0.3372 - accuracy: 0.8578 - val_loss: 0.4247 - val_accuracy: 0.8241\n",
      "Epoch 5/5\n",
      "215/215 [==============================] - 6s 27ms/step - loss: 0.2937 - accuracy: 0.8824 - val_loss: 0.4512 - val_accuracy: 0.8150\n",
      "24/24 [==============================] - 1s 23ms/step - loss: 0.4512 - accuracy: 0.8150\n",
      "Model Evaluation result [0.4512018859386444, 0.8149606585502625]\n",
      "24/24 [==============================] - 1s 24ms/step\n"
     ]
    },
    {
     "data": {
      "text/plain": [
       "{'accuracy': 81.49606299212599,\n",
       " 'precision': 0.8169586293569981,\n",
       " 'recall': 0.8149606299212598,\n",
       " 'f1': 0.8135344618830033}"
      ]
     },
     "execution_count": 2,
     "metadata": {},
     "output_type": "execute_result"
    }
   ],
   "source": [
    "model_6.compile(loss=\"binary_crossentropy\",\n",
    "                optimizer=tf.keras.optimizers.Adam(), metrics=[\"accuracy\"])\n",
    "\n",
    "model_6_history = model_6.fit(train_sentences, train_labels, epochs=5, validation_data=(\n",
    "    val_sentences, val_labels), callbacks=[create_tensorboard_callback(\"model_logs\", \"model_6_transferlearning\")])\n",
    "\n",
    "process_the_model_output(tf, model_6, val_sentences,\n",
    "                         val_labels, calculate_results)\n"
   ]
  },
  {
   "attachments": {},
   "cell_type": "markdown",
   "metadata": {},
   "source": [
    "# 10 % Data"
   ]
  },
  {
   "cell_type": "code",
   "execution_count": 1,
   "metadata": {},
   "outputs": [],
   "source": [
    "from core.data_sets import train_sentences_10_percent, train_labels_10_percent\n",
    "\n",
    "import tensorflow as tf\n",
    "from core.data_sets import train_sentences, train_labels, val_labels, val_sentences\n",
    "from core.helper_fuctions import calculate_results\n",
    "from models.model7 import model_7\n",
    "from core.helper_functions2 import process_the_model_output\n",
    "\n",
    "from core.helper_fuctions import create_tensorboard_callback\n",
    "import tensorflow_hub as hub\n"
   ]
  },
  {
   "cell_type": "code",
   "execution_count": 2,
   "metadata": {},
   "outputs": [
    {
     "name": "stdout",
     "output_type": "stream",
     "text": [
      "Saving TensorBoard log files to: model_logs/model_7_USE/20230103-035457\n",
      "Epoch 1/5\n",
      "22/22 [==============================] - 7s 83ms/step - loss: 0.6732 - accuracy: 0.6774 - val_loss: 0.6517 - val_accuracy: 0.7441\n",
      "Epoch 2/5\n",
      "22/22 [==============================] - 1s 49ms/step - loss: 0.6003 - accuracy: 0.8088 - val_loss: 0.5922 - val_accuracy: 0.7572\n",
      "Epoch 3/5\n",
      "22/22 [==============================] - 1s 48ms/step - loss: 0.5232 - accuracy: 0.8117 - val_loss: 0.5347 - val_accuracy: 0.7703\n",
      "Epoch 4/5\n",
      "22/22 [==============================] - 1s 51ms/step - loss: 0.4612 - accuracy: 0.8175 - val_loss: 0.5004 - val_accuracy: 0.7730\n",
      "Epoch 5/5\n",
      "22/22 [==============================] - 1s 51ms/step - loss: 0.4186 - accuracy: 0.8307 - val_loss: 0.4911 - val_accuracy: 0.7795\n",
      "24/24 [==============================] - 1s 22ms/step - loss: 0.4911 - accuracy: 0.7795\n",
      "Model Evaluation result [0.49110233783721924, 0.7795275449752808]\n",
      "24/24 [==============================] - 1s 23ms/step\n"
     ]
    },
    {
     "data": {
      "text/plain": [
       "{'accuracy': 77.95275590551181,\n",
       " 'precision': 0.7813761276529175,\n",
       " 'recall': 0.7795275590551181,\n",
       " 'f1': 0.7775281328700309}"
      ]
     },
     "execution_count": 2,
     "metadata": {},
     "output_type": "execute_result"
    }
   ],
   "source": [
    "\n",
    "model_7.compile(loss=\"binary_crossentropy\",\n",
    "                optimizer=tf.keras.optimizers.Adam(), metrics=[\"accuracy\"])\n",
    "\n",
    "model_7_history = model_7.fit(train_sentences_10_percent, train_labels_10_percent, epochs=5, validation_data=(\n",
    "    val_sentences, val_labels), callbacks=[create_tensorboard_callback(\"model_logs\", \"model_7_USE\")])\n",
    "\n",
    "process_the_model_output(tf, model_7, val_sentences,\n",
    "                         val_labels, calculate_results)\n"
   ]
  }
 ],
 "metadata": {
  "kernelspec": {
   "display_name": "venv",
   "language": "python",
   "name": "python3"
  },
  "language_info": {
   "codemirror_mode": {
    "name": "ipython",
    "version": 3
   },
   "file_extension": ".py",
   "mimetype": "text/x-python",
   "name": "python",
   "nbconvert_exporter": "python",
   "pygments_lexer": "ipython3",
   "version": "3.8.0 (tags/v3.8.0:fa919fd, Oct 14 2019, 19:37:50) [MSC v.1916 64 bit (AMD64)]"
  },
  "orig_nbformat": 4,
  "vscode": {
   "interpreter": {
    "hash": "f950383369480fb859c28dc73842c7e763e284fd27215f50802f500475352afe"
   }
  }
 },
 "nbformat": 4,
 "nbformat_minor": 2
}
