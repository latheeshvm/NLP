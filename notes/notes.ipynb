{
 "cells": [
  {
   "attachments": {},
   "cell_type": "markdown",
   "metadata": {},
   "source": [
    "# RNN\n",
    "\n",
    "Recurrent neural networks (RNNs) are a class of neural networks that are particularly well suited to processing sequential data such as text. They are able to store past information in memory and process it at a later time. This is in contrast to feedforward neural networks, which do not have memory and can only process the current input."
   ]
  },
  {
   "attachments": {},
   "cell_type": "markdown",
   "metadata": {},
   "source": [
    "## ARCHITECTURE\n",
    "\n",
    " The input is a sequence of vectors, $x_1, x_2, \\ldots, x_T$. The output is also a sequence of vectors, $y_1, y_2, \\ldots, y_T$. The hidden state, $h_t$, is updated at each time step. The hidden state is initialized to a vector of zeros, $h_0 = 0$. The hidden state at the previous time step, $h_{t-1}$, is used to compute the hidden state at the current time step, $h_t$. The hidden state at the current time step, $h_t$, is used to compute the output at the current time step, $y_t$. The output at the current time step, $y_t$, is used to compute the loss at the current time step, $l_t$. The loss at each time step is summed to compute the total loss for the entire sequence.\n"
   ]
  },
  {
   "attachments": {},
   "cell_type": "markdown",
   "metadata": {},
   "source": [
    "* Input text(s)\n",
    "* Input layer = Takes a sequence of vectors, $x_1, x_2, \\ldots, x_T$.\n",
    "* Text vectorization = Converts text to numbers.\n",
    "* Embedding = Turns numbers into dense vectors of fixed size.\n",
    "* RNN layer = Finds the patterns in the text.\n",
    "* Hidden layer = Adds non-linearity to the RNN layer. Tanh activation function.\n",
    "* Pooling layer = Reduces the dimensionality of the hidden layer.\n",
    "* Fully connected layer = Classifies the text.\n",
    "* Output layer = Outputs probabilities for each class.\n",
    "* Output activation = Applies an activation function to the output layer."
   ]
  },
  {
   "cell_type": "markdown",
   "metadata": {},
   "source": []
  }
 ],
 "metadata": {
  "language_info": {
   "name": "python"
  },
  "orig_nbformat": 4
 },
 "nbformat": 4,
 "nbformat_minor": 2
}
