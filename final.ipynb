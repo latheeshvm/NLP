{
 "cells": [
  {
   "cell_type": "code",
   "execution_count": 1,
   "metadata": {},
   "outputs": [],
   "source": [
    "import tensorflow as tf\n",
    "from core.data_sets import train_sentences, train_labels, val_labels, val_sentences, tes\n",
    "from core.helper_fuctions import calculate_results\n",
    "from core.helper_functions2 import process_the_model_output\n",
    "from core.helper_fuctions import create_tensorboard_callback\n",
    "import tensorflow_hub as hub"
   ]
  },
  {
   "cell_type": "code",
   "execution_count": 17,
   "metadata": {},
   "outputs": [],
   "source": [
    "sentence_encoder_layer = hub.KerasLayer(\n",
    "    \"https://tfhub.dev/google/universal-sentence-encoder/4\", input_shape=[], dtype=tf.string, trainable=False, name=\"USE\")\n",
    "\n",
    "\n",
    "model_f = tf.keras.Sequential([\n",
    "    sentence_encoder_layer,\n",
    "    tf.keras.layers.Dense(160, activation=\"relu\"),\n",
    "    tf.keras.layers.Dense(80, activation=\"relu\"),\n",
    "    tf.keras.layers.Dense(1, activation=\"sigmoid\")\n",
    "])\n"
   ]
  },
  {
   "cell_type": "code",
   "execution_count": 18,
   "metadata": {},
   "outputs": [
    {
     "name": "stdout",
     "output_type": "stream",
     "text": [
      "Saving TensorBoard log files to: model_logs/final_model/20230103-173753\n",
      "Epoch 1/5\n",
      "215/215 [==============================] - 10s 31ms/step - loss: 0.4678 - accuracy: 0.7885 - val_loss: 0.4363 - val_accuracy: 0.8058\n",
      "Epoch 2/5\n",
      "215/215 [==============================] - 6s 27ms/step - loss: 0.3925 - accuracy: 0.8318 - val_loss: 0.4272 - val_accuracy: 0.8176\n",
      "Epoch 3/5\n",
      "215/215 [==============================] - 6s 27ms/step - loss: 0.3629 - accuracy: 0.8445 - val_loss: 0.4215 - val_accuracy: 0.8228\n",
      "Epoch 4/5\n",
      "215/215 [==============================] - 6s 27ms/step - loss: 0.3262 - accuracy: 0.8644 - val_loss: 0.4382 - val_accuracy: 0.8084\n",
      "Epoch 5/5\n",
      "215/215 [==============================] - 6s 27ms/step - loss: 0.2824 - accuracy: 0.8860 - val_loss: 0.4741 - val_accuracy: 0.8123\n",
      "24/24 [==============================] - 1s 23ms/step - loss: 0.4741 - accuracy: 0.8123\n",
      "Model Evaluation result [0.47408753633499146, 0.8123359680175781]\n",
      "24/24 [==============================] - 1s 22ms/step\n"
     ]
    },
    {
     "data": {
      "text/plain": [
       "{'accuracy': 81.23359580052494,\n",
       " 'precision': 0.8185848665639733,\n",
       " 'recall': 0.8123359580052494,\n",
       " 'f1': 0.809631813400892}"
      ]
     },
     "execution_count": 18,
     "metadata": {},
     "output_type": "execute_result"
    }
   ],
   "source": [
    "model_f.compile(loss=\"binary_crossentropy\",\n",
    "                optimizer=tf.keras.optimizers.Adam(), metrics=[\"accuracy\"])\n",
    "\n",
    "model_f_history = model_f.fit(train_sentences, train_labels, epochs=5, validation_data=(\n",
    "    val_sentences, val_labels), callbacks=[create_tensorboard_callback(\"model_logs\", \"final_model\")])\n",
    "\n",
    "process_the_model_output(tf, model_f, val_sentences,\n",
    "                         val_labels, calculate_results)"
   ]
  },
  {
   "cell_type": "code",
   "execution_count": 4,
   "metadata": {},
   "outputs": [],
   "source": [
    "# Possible Improvements\n",
    "# - Remove the false positives and false negatives from the training data"
   ]
  },
  {
   "cell_type": "code",
   "execution_count": 19,
   "metadata": {},
   "outputs": [
    {
     "name": "stdout",
     "output_type": "stream",
     "text": [
      "102/102 [==============================] - 2s 22ms/step\n"
     ]
    }
   ],
   "source": [
    "from core.data_sets import test_df\n",
    "import random\n",
    "import pandas as pd\n",
    "\n",
    "test_sentences = test_df[\"text\"].to_list()\n",
    "\n",
    "\n",
    "def create_pred_csv(model, sentences, filename=\"submission_m.csv\"):\n",
    "    # make predictions\n",
    "    model_pred_probs = model.predict(sentences)\n",
    "    model_preds = tf.squeeze(tf.round(model_pred_probs))\n",
    "\n",
    "    model_preds = [int(pred) for pred in model_preds]\n",
    "\n",
    "    # create a dataframe with two columns, id and target\n",
    "    ids = test_df[\"id\"].to_list()\n",
    "    \n",
    "    df = pd.DataFrame({\"id\": ids, \"target\": model_preds})\n",
    "    df.to_csv(filename, index=False)\n",
    "\n",
    "create_pred_csv(model_f, test_sentences)\n",
    "\n"
   ]
  },
  {
   "cell_type": "code",
   "execution_count": null,
   "metadata": {},
   "outputs": [],
   "source": []
  }
 ],
 "metadata": {
  "kernelspec": {
   "display_name": "venv",
   "language": "python",
   "name": "python3"
  },
  "language_info": {
   "codemirror_mode": {
    "name": "ipython",
    "version": 3
   },
   "file_extension": ".py",
   "mimetype": "text/x-python",
   "name": "python",
   "nbconvert_exporter": "python",
   "pygments_lexer": "ipython3",
   "version": "3.8.0"
  },
  "orig_nbformat": 4,
  "vscode": {
   "interpreter": {
    "hash": "f950383369480fb859c28dc73842c7e763e284fd27215f50802f500475352afe"
   }
  }
 },
 "nbformat": 4,
 "nbformat_minor": 2
}
